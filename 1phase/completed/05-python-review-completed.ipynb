{
 "cells": [
  {
   "cell_type": "markdown",
   "metadata": {
    "toc": true
   },
   "source": [
    "<h1>Table of Contents<span class=\"tocSkip\"></span></h1>\n",
    "<div class=\"toc\"><ul class=\"toc-item\"><li><span><a href=\"#Objectives\" data-toc-modified-id=\"Objectives-1\"><span class=\"toc-item-num\">1&nbsp;&nbsp;</span>Objectives</a></span></li><li><span><a href=\"#First---Let's-Review\" data-toc-modified-id=\"First---Let's-Review-2\"><span class=\"toc-item-num\">2&nbsp;&nbsp;</span>First - Let's Review</a></span><ul class=\"toc-item\"><li><span><a href=\"#Python-Lists\" data-toc-modified-id=\"Python-Lists-2.1\"><span class=\"toc-item-num\">2.1&nbsp;&nbsp;</span>Python Lists</a></span><ul class=\"toc-item\"><li><span><a href=\"#List-Methods\" data-toc-modified-id=\"List-Methods-2.1.1\"><span class=\"toc-item-num\">2.1.1&nbsp;&nbsp;</span>List Methods</a></span></li><li><span><a href=\"#Create-our-Bento-Box!\" data-toc-modified-id=\"Create-our-Bento-Box!-2.1.2\"><span class=\"toc-item-num\">2.1.2&nbsp;&nbsp;</span>Create our Bento Box!</a></span></li></ul></li><li><span><a href=\"#For-Loops\" data-toc-modified-id=\"For-Loops-2.2\"><span class=\"toc-item-num\">2.2&nbsp;&nbsp;</span>For Loops</a></span><ul class=\"toc-item\"><li><span><a href=\"#List-Comprehension\" data-toc-modified-id=\"List-Comprehension-2.2.1\"><span class=\"toc-item-num\">2.2.1&nbsp;&nbsp;</span>List Comprehension</a></span></li></ul></li><li><span><a href=\"#Python-Dictionaries\" data-toc-modified-id=\"Python-Dictionaries-2.3\"><span class=\"toc-item-num\">2.3&nbsp;&nbsp;</span>Python Dictionaries</a></span></li><li><span><a href=\"#Dictionary-Methods\" data-toc-modified-id=\"Dictionary-Methods-2.4\"><span class=\"toc-item-num\">2.4&nbsp;&nbsp;</span>Dictionary Methods</a></span><ul class=\"toc-item\"><li><span><a href=\"#Dictionary-Comprehension\" data-toc-modified-id=\"Dictionary-Comprehension-2.4.1\"><span class=\"toc-item-num\">2.4.1&nbsp;&nbsp;</span>Dictionary Comprehension</a></span></li></ul></li><li><span><a href=\"#Nesting\" data-toc-modified-id=\"Nesting-2.5\"><span class=\"toc-item-num\">2.5&nbsp;&nbsp;</span>Nesting</a></span></li><li><span><a href=\"#Functions\" data-toc-modified-id=\"Functions-2.6\"><span class=\"toc-item-num\">2.6&nbsp;&nbsp;</span>Functions</a></span><ul class=\"toc-item\"><li><span><a href=\"#Creating-Functions\" data-toc-modified-id=\"Creating-Functions-2.6.1\"><span class=\"toc-item-num\">2.6.1&nbsp;&nbsp;</span>Creating Functions</a></span></li></ul></li></ul></li><li><span><a href=\"#Extra-Practice-Exercises\" data-toc-modified-id=\"Extra-Practice-Exercises-3\"><span class=\"toc-item-num\">3&nbsp;&nbsp;</span>Extra Practice Exercises</a></span></li></ul></div>"
   ]
  },
  {
   "cell_type": "markdown",
   "metadata": {},
   "source": [
    "# Objectives"
   ]
  },
  {
   "cell_type": "markdown",
   "metadata": {},
   "source": [
    "- Extract data from nested data structures\n",
    "- Write functions to transform data\n",
    "- Construct list and dictionary comprehensions"
   ]
  },
  {
   "cell_type": "markdown",
   "metadata": {},
   "source": [
    "# First - Let's Review"
   ]
  },
  {
   "cell_type": "markdown",
   "metadata": {},
   "source": [
    "Let's practice different forms of python data manipulation... with bento boxes!\n",
    "\n",
    "<img src='https://cdn.shopify.com/s/files/1/1610/3863/articles/What_is_Shokado_Bento_Box_a_Classic-Style_Bento_Box_Originated_from_Japanese_Kaiseki_Cuisine_1_1600x.jpg' alt='bento box image, image source: https://www.globalkitchenjapan.com/blogs/articles/would-you-like-to-have-one-for-special-occasions' width=600>"
   ]
  },
  {
   "cell_type": "markdown",
   "metadata": {},
   "source": [
    "## Python Lists"
   ]
  },
  {
   "cell_type": "markdown",
   "metadata": {},
   "source": [
    "### List Methods"
   ]
  },
  {
   "cell_type": "markdown",
   "metadata": {},
   "source": [
    "Here are a few common list methods:\n",
    "\n",
    "- `.append()`: adds the input element to the end of a list\n",
    "- `.pop()`: removes and returns the element with input index from the list\n",
    "- `.extend()`: adds the elements in the input iterable to the end of a list\n",
    "- `.index()`: returns the first place in a list where the argument is found\n",
    "- `.remove()`: removes element by value\n",
    "- `.count()`: returns the number of occurrences of the input element in a list\n",
    "\n",
    "Let's practice with a few!"
   ]
  },
  {
   "cell_type": "markdown",
   "metadata": {},
   "source": [
    "### Create our Bento Box!"
   ]
  },
  {
   "cell_type": "markdown",
   "metadata": {},
   "source": [
    "Let's make a list, called `bento`, that captures some ingredients we'd like to see in our bento box lunch.\n",
    "\n",
    "Some common ingredients for bento boxes include: chicken, fish, katsu curry, tofu, gyoza, edamame, salad, pickled cucumbers, boiled egg, broccoli, rice, udon noodles, yakisoba ... and these are just in more traditional bento boxes! The best part about a bento is that you can combine any lunch ingredients you like.\n",
    "\n",
    "Pick 5 things you'd like in your bento, and put those in your `bento` list."
   ]
  },
  {
   "cell_type": "code",
   "execution_count": 2,
   "metadata": {
    "ExecuteTime": {
     "end_time": "2023-04-05T21:24:50.799178Z",
     "start_time": "2023-04-05T21:24:50.789177Z"
    }
   },
   "outputs": [],
   "source": [
    "# Create your bento list\n",
    "bento = ['salmon', 'rice',  'edamame', 'seaweed salad', 'dumplings']"
   ]
  },
  {
   "cell_type": "markdown",
   "metadata": {},
   "source": [
    "Lists are ordered, meaning you can access the index number for an element:"
   ]
  },
  {
   "cell_type": "code",
   "execution_count": 6,
   "metadata": {
    "ExecuteTime": {
     "end_time": "2023-04-05T21:26:19.086208Z",
     "start_time": "2023-04-05T21:26:19.079679Z"
    },
    "scrolled": true
   },
   "outputs": [
    {
     "data": {
      "text/plain": [
       "'edamame'"
      ]
     },
     "execution_count": 6,
     "metadata": {},
     "output_type": "execute_result"
    }
   ],
   "source": [
    "# Run this cell without changes\n",
    "bento[2]"
   ]
  },
  {
   "cell_type": "markdown",
   "metadata": {},
   "source": [
    "Or you can grab ranges/slices of a list:"
   ]
  },
  {
   "cell_type": "code",
   "execution_count": 7,
   "metadata": {
    "ExecuteTime": {
     "end_time": "2023-04-05T21:26:28.554180Z",
     "start_time": "2023-04-05T21:26:28.535712Z"
    }
   },
   "outputs": [
    {
     "data": {
      "text/plain": [
       "['edamame', 'seaweed salad', 'dumplings']"
      ]
     },
     "execution_count": 7,
     "metadata": {},
     "output_type": "execute_result"
    }
   ],
   "source": [
    "# Run this cell without changes\n",
    "# Play around with these numbers, and start to build some understanding of \n",
    "# which elements are where exactly in the list\n",
    "bento[2:5]"
   ]
  },
  {
   "cell_type": "markdown",
   "metadata": {},
   "source": [
    "Add items to a list with `.append()` - add something else you like to your bento!"
   ]
  },
  {
   "cell_type": "code",
   "execution_count": 8,
   "metadata": {
    "ExecuteTime": {
     "end_time": "2023-04-05T21:26:53.648679Z",
     "start_time": "2023-04-05T21:26:53.637678Z"
    }
   },
   "outputs": [],
   "source": [
    "# Code here to add to your list\n",
    "bento.append('kimchi')"
   ]
  },
  {
   "cell_type": "code",
   "execution_count": 9,
   "metadata": {
    "ExecuteTime": {
     "end_time": "2023-04-05T21:26:59.662678Z",
     "start_time": "2023-04-05T21:26:59.658177Z"
    }
   },
   "outputs": [
    {
     "data": {
      "text/plain": [
       "['salmon', 'rice', 'edamame', 'seaweed salad', 'dumplings', 'kimchi']"
      ]
     },
     "execution_count": 9,
     "metadata": {},
     "output_type": "execute_result"
    }
   ],
   "source": [
    "bento"
   ]
  },
  {
   "cell_type": "markdown",
   "metadata": {},
   "source": [
    "If you don't want to keep that last item, you can use `.pop()` to remove it."
   ]
  },
  {
   "cell_type": "code",
   "execution_count": 10,
   "metadata": {
    "ExecuteTime": {
     "end_time": "2023-04-05T21:27:15.734678Z",
     "start_time": "2023-04-05T21:27:15.719208Z"
    }
   },
   "outputs": [
    {
     "data": {
      "text/plain": [
       "'kimchi'"
      ]
     },
     "execution_count": 10,
     "metadata": {},
     "output_type": "execute_result"
    }
   ],
   "source": [
    "# Code here to test that out\n",
    "bento.pop()"
   ]
  },
  {
   "cell_type": "code",
   "execution_count": 11,
   "metadata": {
    "ExecuteTime": {
     "end_time": "2023-04-05T21:27:19.360680Z",
     "start_time": "2023-04-05T21:27:19.343677Z"
    }
   },
   "outputs": [
    {
     "data": {
      "text/plain": [
       "['salmon', 'rice', 'edamame', 'seaweed salad', 'dumplings']"
      ]
     },
     "execution_count": 11,
     "metadata": {},
     "output_type": "execute_result"
    }
   ],
   "source": [
    "bento\n"
   ]
  },
  {
   "cell_type": "code",
   "execution_count": null,
   "metadata": {},
   "outputs": [],
   "source": [
    "# Now check what your list looks like - is that last item still there?\n"
   ]
  },
  {
   "cell_type": "markdown",
   "metadata": {},
   "source": [
    "Now, let's put our bento box in a readable format using `join`:"
   ]
  },
  {
   "cell_type": "code",
   "execution_count": 13,
   "metadata": {
    "ExecuteTime": {
     "end_time": "2023-04-05T21:28:20.274679Z",
     "start_time": "2023-04-05T21:28:20.259677Z"
    }
   },
   "outputs": [
    {
     "name": "stdout",
     "output_type": "stream",
     "text": [
      "str1str2\n"
     ]
    }
   ],
   "source": [
    "print('str1' + 'str2')"
   ]
  },
  {
   "cell_type": "code",
   "execution_count": 15,
   "metadata": {
    "ExecuteTime": {
     "end_time": "2023-04-05T21:29:41.487208Z",
     "start_time": "2023-04-05T21:29:41.474177Z"
    }
   },
   "outputs": [
    {
     "data": {
      "text/plain": [
       "'dumplings'"
      ]
     },
     "execution_count": 15,
     "metadata": {},
     "output_type": "execute_result"
    }
   ],
   "source": [
    "bento[-1]"
   ]
  },
  {
   "cell_type": "code",
   "execution_count": 12,
   "metadata": {
    "ExecuteTime": {
     "end_time": "2023-04-05T21:27:45.478209Z",
     "start_time": "2023-04-05T21:27:45.468178Z"
    },
    "scrolled": true
   },
   "outputs": [
    {
     "name": "stdout",
     "output_type": "stream",
     "text": [
      "I'd like my bento box to contain: salmon, rice, edamame, seaweed salad, and dumplings\n"
     ]
    }
   ],
   "source": [
    "# Run this cell without changes\n",
    "print(\"I'd like my bento box to contain: \" + \", \".join(bento[:-1]) + \", and \" + bento[-1])"
   ]
  },
  {
   "cell_type": "code",
   "execution_count": null,
   "metadata": {},
   "outputs": [],
   "source": []
  },
  {
   "cell_type": "markdown",
   "metadata": {},
   "source": [
    "**Neat trick!** F-strings allow you to easily format strings to add variables or elements from an iterable (like a list). You can also use `.format()` in a similar way."
   ]
  },
  {
   "cell_type": "code",
   "execution_count": 16,
   "metadata": {
    "ExecuteTime": {
     "end_time": "2023-04-05T21:30:20.996703Z",
     "start_time": "2023-04-05T21:30:20.985679Z"
    }
   },
   "outputs": [
    {
     "name": "stdout",
     "output_type": "stream",
     "text": [
      "My bento box will include salmon and rice.\n"
     ]
    }
   ],
   "source": [
    "# Run this cell without changes\n",
    "print(f\"My bento box will include {bento[0]} and {bento[1]}.\")"
   ]
  },
  {
   "cell_type": "code",
   "execution_count": 17,
   "metadata": {
    "ExecuteTime": {
     "end_time": "2023-04-05T21:30:35.365177Z",
     "start_time": "2023-04-05T21:30:35.346707Z"
    }
   },
   "outputs": [
    {
     "name": "stdout",
     "output_type": "stream",
     "text": [
      "My bento box will include salmon and rice.\n"
     ]
    }
   ],
   "source": [
    "# The above cell is the same as:\n",
    "print(\"My bento box will include {} and {}.\".format(bento[0], bento[1]))"
   ]
  },
  {
   "cell_type": "markdown",
   "metadata": {},
   "source": [
    "**Think about it:** How is the f-string/`format` working differently from the `join` we did before?\n",
    "\n",
    "- \n"
   ]
  },
  {
   "cell_type": "markdown",
   "metadata": {},
   "source": [
    "## For Loops"
   ]
  },
  {
   "cell_type": "markdown",
   "metadata": {},
   "source": [
    "Now let's say we want to capitalize each ingredient in our bento box. How could we do this without editing each one individually?\n",
    "\n",
    "Well - to go over an iterable, like a list, we can use for loops!"
   ]
  },
  {
   "cell_type": "code",
   "execution_count": 18,
   "metadata": {
    "ExecuteTime": {
     "end_time": "2023-04-05T21:32:07.328729Z",
     "start_time": "2023-04-05T21:32:07.314259Z"
    }
   },
   "outputs": [
    {
     "name": "stdout",
     "output_type": "stream",
     "text": [
      "Salmon\n",
      "Rice\n",
      "Edamame\n",
      "Seaweed Salad\n",
      "Dumplings\n"
     ]
    }
   ],
   "source": [
    "# Write a for loop to capitalize each ingredient in our bento list\n",
    "\n",
    "for ingredient in bento:\n",
    "    print(ingredient.title())"
   ]
  },
  {
   "cell_type": "markdown",
   "metadata": {},
   "source": [
    "We can add conditionals to our loops as well! Let's create a new list, called `s_bento`, that contains only ingredients that have the letter `s` in them.\n",
    "\n",
    "(don't have any ingredients with `s`? feel free to use another letter!)"
   ]
  },
  {
   "cell_type": "code",
   "execution_count": 19,
   "metadata": {
    "ExecuteTime": {
     "end_time": "2023-04-05T21:33:43.676731Z",
     "start_time": "2023-04-05T21:33:43.670729Z"
    }
   },
   "outputs": [],
   "source": [
    "# Write your for loop with a conditional\n",
    "\n",
    "# Need to first define an empty list to become our new list\n",
    "s_bento = []\n",
    "\n",
    "# Now our loop\n",
    "\n",
    "for ingredient in bento:\n",
    "    if 's' in ingredient:\n",
    "        s_bento.append(ingredient)"
   ]
  },
  {
   "cell_type": "code",
   "execution_count": 20,
   "metadata": {
    "ExecuteTime": {
     "end_time": "2023-04-05T21:33:44.126235Z",
     "start_time": "2023-04-05T21:33:44.120729Z"
    }
   },
   "outputs": [
    {
     "data": {
      "text/plain": [
       "['salmon', 'seaweed salad', 'dumplings']"
      ]
     },
     "execution_count": 20,
     "metadata": {},
     "output_type": "execute_result"
    }
   ],
   "source": [
    "# Check your work\n",
    "s_bento"
   ]
  },
  {
   "cell_type": "markdown",
   "metadata": {},
   "source": [
    "### List Comprehension"
   ]
  },
  {
   "cell_type": "markdown",
   "metadata": {},
   "source": [
    "**Neat trick!** You can write one-line for loops!\n",
    "\n",
    "List comprehensions are especially useful if you'd like to loop over something and output a new list - just like we did above!\n",
    "\n",
    "The syntax is: `[f(x) for x in <iterable> if <condition>]`"
   ]
  },
  {
   "cell_type": "code",
   "execution_count": 21,
   "metadata": {
    "ExecuteTime": {
     "end_time": "2023-04-05T21:34:34.656228Z",
     "start_time": "2023-04-05T21:34:34.648729Z"
    }
   },
   "outputs": [
    {
     "data": {
      "text/plain": [
       "['Salmon', 'Rice', 'Edamame', 'Seaweed Salad', 'Dumplings']"
      ]
     },
     "execution_count": 21,
     "metadata": {},
     "output_type": "execute_result"
    }
   ],
   "source": [
    "# Change our loop to a list comprehension\n",
    "\n",
    "[x.title() for x in bento]\n"
   ]
  },
  {
   "cell_type": "code",
   "execution_count": 22,
   "metadata": {
    "ExecuteTime": {
     "end_time": "2023-04-05T21:35:09.019759Z",
     "start_time": "2023-04-05T21:35:09.007231Z"
    }
   },
   "outputs": [
    {
     "data": {
      "text/plain": [
       "['salmon', 'seaweed salad', 'dumplings']"
      ]
     },
     "execution_count": 22,
     "metadata": {},
     "output_type": "execute_result"
    }
   ],
   "source": [
    "# We could do the same with our earlier capitalization, too!\n",
    "\n",
    "[ingredient for ingredient in bento if 's' in ingredient]"
   ]
  },
  {
   "cell_type": "code",
   "execution_count": 25,
   "metadata": {
    "ExecuteTime": {
     "end_time": "2023-04-05T21:37:54.916259Z",
     "start_time": "2023-04-05T21:37:54.901230Z"
    }
   },
   "outputs": [
    {
     "data": {
      "text/plain": [
       "['salmon', 'RICE', 'EDAMAME', 'seaweed salad', 'dumplings']"
      ]
     },
     "execution_count": 25,
     "metadata": {},
     "output_type": "execute_result"
    }
   ],
   "source": [
    "[ingredient if 's' in ingredient else ingredient.upper() for ingredient in bento]"
   ]
  },
  {
   "cell_type": "markdown",
   "metadata": {},
   "source": [
    "Do you _need_ to use list comprehension for this? Nope! But list comprehensions are more efficient: The syntax is simpler, and they're also faster. Also, you'll see them in other people's code, so you'll have to know how to work with them!"
   ]
  },
  {
   "cell_type": "markdown",
   "metadata": {},
   "source": [
    "## Python Dictionaries"
   ]
  },
  {
   "cell_type": "markdown",
   "metadata": {},
   "source": [
    "<img src='https://images.pexels.com/photos/270233/pexels-photo-270233.jpeg?auto=compress&cs=tinysrgb&dpr=2&w=500' alt='picture of a dictionary page' width=600>\n",
    "\n",
    "No, not that kind! \n",
    "\n",
    "With your list above, someone would need to tell you that \"rice\" is the main and \"salmon\" is the protein. \n",
    "\n",
    "Dictionaries let you assign **key** and **value** pairs, which connects a key like \"main\" to a value like \"rice\". Rather than using **indexing**, you use **keys** to return values."
   ]
  },
  {
   "cell_type": "markdown",
   "metadata": {},
   "source": [
    "## Dictionary Methods"
   ]
  },
  {
   "cell_type": "markdown",
   "metadata": {},
   "source": [
    "Make sure you're comfortable with the following dictionary methods:\n",
    "\n",
    "- `.keys()`: returns an array of the dictionary's keys\n",
    "- `.values()`: returns an array of the dictionary's values\n",
    "- `.items()`: returns an array of key-value tuples"
   ]
  },
  {
   "cell_type": "markdown",
   "metadata": {},
   "source": [
    "Update your bento box to be a dictionary, called `bento_dict`. There are multiple ways to do this, but let's showcase how you can use your list and a new list of keys to zip your bento box together."
   ]
  },
  {
   "cell_type": "code",
   "execution_count": 26,
   "metadata": {
    "ExecuteTime": {
     "end_time": "2023-04-05T21:46:52.611326Z",
     "start_time": "2023-04-05T21:46:52.598833Z"
    },
    "scrolled": true
   },
   "outputs": [
    {
     "name": "stdout",
     "output_type": "stream",
     "text": [
      "{'ingredient1': 'rice', 'ingredient2': 'tempura', 'ingredient3': 'miso soup'}\n",
      "<class 'dict'>\n"
     ]
    }
   ],
   "source": [
    "# Here's an example of zipping two lists together to form a dictionary\n",
    "example_bento_keys = [\"ingredient1\", \"ingredient2\", \"ingredient3\"]\n",
    "example_bento_values = [\"rice\", \"tempura\", \"miso soup\"]\n",
    "\n",
    "example_bento_dict = dict(zip(example_bento_keys, example_bento_values))\n",
    "\n",
    "print(example_bento_dict)\n",
    "print(type(example_bento_dict))"
   ]
  },
  {
   "cell_type": "code",
   "execution_count": 27,
   "metadata": {
    "ExecuteTime": {
     "end_time": "2023-04-05T21:47:17.752305Z",
     "start_time": "2023-04-05T21:47:17.736333Z"
    }
   },
   "outputs": [
    {
     "data": {
      "text/plain": [
       "['salmon', 'rice', 'edamame', 'seaweed salad', 'dumplings']"
      ]
     },
     "execution_count": 27,
     "metadata": {},
     "output_type": "execute_result"
    }
   ],
   "source": [
    "# Now let's do that! What does our current list look like?\n",
    "bento"
   ]
  },
  {
   "cell_type": "code",
   "execution_count": null,
   "metadata": {},
   "outputs": [],
   "source": []
  },
  {
   "cell_type": "code",
   "execution_count": null,
   "metadata": {},
   "outputs": [],
   "source": []
  },
  {
   "cell_type": "code",
   "execution_count": null,
   "metadata": {},
   "outputs": [],
   "source": []
  },
  {
   "cell_type": "code",
   "execution_count": 29,
   "metadata": {
    "ExecuteTime": {
     "end_time": "2023-04-05T21:47:58.641304Z",
     "start_time": "2023-04-05T21:47:58.624305Z"
    }
   },
   "outputs": [],
   "source": [
    "# Let's define keys for our bento\n",
    "# Please use the keys 'protein' and 'main', and have at least 2 keys end in numbers!\n",
    "# This will make later exercises easier!\n",
    "bento_keys = ['protein','main','veg1','veg2','side']"
   ]
  },
  {
   "cell_type": "code",
   "execution_count": 30,
   "metadata": {
    "ExecuteTime": {
     "end_time": "2023-04-05T21:47:59.245804Z",
     "start_time": "2023-04-05T21:47:59.233804Z"
    }
   },
   "outputs": [],
   "source": [
    "# Now create your bento_dict!\n",
    "bento_dict = dict(zip(bento_keys, bento))"
   ]
  },
  {
   "cell_type": "code",
   "execution_count": 31,
   "metadata": {
    "ExecuteTime": {
     "end_time": "2023-04-05T21:48:00.299804Z",
     "start_time": "2023-04-05T21:48:00.288804Z"
    }
   },
   "outputs": [
    {
     "name": "stdout",
     "output_type": "stream",
     "text": [
      "<class 'dict'>\n",
      "{'protein': 'salmon', 'main': 'rice', 'veg1': 'edamame', 'veg2': 'seaweed salad', 'side': 'dumplings'}\n"
     ]
    }
   ],
   "source": [
    "# Code here to check your work - check type, and print your dictionary\n",
    "print(type(bento_dict))\n",
    "\n",
    "print(bento_dict)"
   ]
  },
  {
   "cell_type": "markdown",
   "metadata": {},
   "source": [
    "You use the key of the dictionary to access its value, for example `bento_box['main']` "
   ]
  },
  {
   "cell_type": "code",
   "execution_count": 36,
   "metadata": {
    "ExecuteTime": {
     "end_time": "2023-04-05T21:50:16.854830Z",
     "start_time": "2023-04-05T21:50:16.849329Z"
    }
   },
   "outputs": [],
   "source": [
    "bento_dict2 = {\n",
    "    'protein' : 'salmon',\n",
    "    'main' : 'rice',\n",
    "    1:'marmite'\n",
    "}"
   ]
  },
  {
   "cell_type": "code",
   "execution_count": 37,
   "metadata": {
    "ExecuteTime": {
     "end_time": "2023-04-05T21:50:18.296304Z",
     "start_time": "2023-04-05T21:50:18.282804Z"
    }
   },
   "outputs": [
    {
     "data": {
      "text/plain": [
       "{'protein': 'salmon', 'main': 'rice', 1: 'marmite'}"
      ]
     },
     "execution_count": 37,
     "metadata": {},
     "output_type": "execute_result"
    }
   ],
   "source": [
    "bento_dict2"
   ]
  },
  {
   "cell_type": "code",
   "execution_count": 38,
   "metadata": {
    "ExecuteTime": {
     "end_time": "2023-04-05T21:50:29.146334Z",
     "start_time": "2023-04-05T21:50:29.130834Z"
    }
   },
   "outputs": [
    {
     "data": {
      "text/plain": [
       "'marmite'"
      ]
     },
     "execution_count": 38,
     "metadata": {},
     "output_type": "execute_result"
    }
   ],
   "source": [
    "bento_dict2[1]"
   ]
  },
  {
   "cell_type": "code",
   "execution_count": 39,
   "metadata": {
    "ExecuteTime": {
     "end_time": "2023-04-05T21:50:43.638825Z",
     "start_time": "2023-04-05T21:50:43.634803Z"
    }
   },
   "outputs": [
    {
     "data": {
      "text/plain": [
       "'salmon'"
      ]
     },
     "execution_count": 39,
     "metadata": {},
     "output_type": "execute_result"
    }
   ],
   "source": [
    "# Practice accessing elements in your bento box\n",
    "bento_dict['protein']"
   ]
  },
  {
   "cell_type": "markdown",
   "metadata": {},
   "source": [
    "Let's practice more loops - write a loop that prints the ingredient value, if `vegetable` is in the key."
   ]
  },
  {
   "cell_type": "code",
   "execution_count": 41,
   "metadata": {
    "ExecuteTime": {
     "end_time": "2023-04-05T21:52:07.912304Z",
     "start_time": "2023-04-05T21:52:07.908305Z"
    }
   },
   "outputs": [
    {
     "name": "stdout",
     "output_type": "stream",
     "text": [
      "edamame\n",
      "seaweed salad\n"
     ]
    }
   ],
   "source": [
    "# Write your loop\n",
    "\n",
    "for key, value in bento_dict.items():\n",
    "    if 'veg' in key:\n",
    "        print(value)\n"
   ]
  },
  {
   "cell_type": "markdown",
   "metadata": {},
   "source": [
    "Now let's make a new dictionary, `veggie_dict`, that contains the number of the vegetable as the key and the capitalized ingredient as the value."
   ]
  },
  {
   "cell_type": "code",
   "execution_count": 44,
   "metadata": {
    "ExecuteTime": {
     "end_time": "2023-04-05T21:55:10.579804Z",
     "start_time": "2023-04-05T21:55:10.567304Z"
    }
   },
   "outputs": [],
   "source": [
    "# Write your loop\n",
    "\n",
    "# Need to first define an empty dictionary to become our new dict\n",
    "veggie_dict = {}\n",
    "\n",
    "for key, ingredient in bento_dict.items():\n",
    "    if 'veg' in key:\n",
    "        number = key[-1]\n",
    "        veggie_dict[number] = ingredient.title()\n",
    "\n"
   ]
  },
  {
   "cell_type": "code",
   "execution_count": 45,
   "metadata": {
    "ExecuteTime": {
     "end_time": "2023-04-05T21:55:11.757804Z",
     "start_time": "2023-04-05T21:55:11.738803Z"
    }
   },
   "outputs": [
    {
     "data": {
      "text/plain": [
       "{'1': 'Edamame', '2': 'Seaweed Salad'}"
      ]
     },
     "execution_count": 45,
     "metadata": {},
     "output_type": "execute_result"
    }
   ],
   "source": [
    "# Check your work!\n",
    "veggie_dict"
   ]
  },
  {
   "cell_type": "markdown",
   "metadata": {},
   "source": [
    "### Dictionary Comprehension"
   ]
  },
  {
   "cell_type": "markdown",
   "metadata": {},
   "source": [
    "Guess what! Just like there's list comprehension to write one-line for loops to output a list, there's the same for dictionaries! This can allow you to take one dictionary and transform it into another.\n",
    "\n",
    "The syntax is: `{f(key):f(value) for (key,value) in <dictonary>.items() if <condition>}`"
   ]
  },
  {
   "cell_type": "code",
   "execution_count": 46,
   "metadata": {
    "ExecuteTime": {
     "end_time": "2023-04-05T21:56:17.911804Z",
     "start_time": "2023-04-05T21:56:17.905804Z"
    }
   },
   "outputs": [
    {
     "data": {
      "text/plain": [
       "{'1': 'Edamame', '2': 'Seaweed Salad'}"
      ]
     },
     "execution_count": 46,
     "metadata": {},
     "output_type": "execute_result"
    }
   ],
   "source": [
    "# Change our loop to a dictionary comprehension\n",
    "{k[-1] : v.title() for k,v in bento_dict.items() if 'veg' in k}"
   ]
  },
  {
   "cell_type": "code",
   "execution_count": 47,
   "metadata": {
    "ExecuteTime": {
     "end_time": "2023-04-05T21:56:33.597803Z",
     "start_time": "2023-04-05T21:56:33.584804Z"
    }
   },
   "outputs": [
    {
     "data": {
      "text/plain": [
       "{'Ingredient 1': 'salmon',\n",
       " 'Ingredient 2': 'rice',\n",
       " 'Ingredient 3': 'edamame',\n",
       " 'Ingredient 4': 'seaweed salad',\n",
       " 'Ingredient 5': 'dumplings'}"
      ]
     },
     "execution_count": 47,
     "metadata": {},
     "output_type": "execute_result"
    }
   ],
   "source": [
    "# You can get creative with it too!\n",
    "{f\"Ingredient {x+1}\": list(bento_dict.values())[x] for x in range(len((bento_dict.values())))}"
   ]
  },
  {
   "cell_type": "markdown",
   "metadata": {},
   "source": [
    "## Nesting"
   ]
  },
  {
   "cell_type": "markdown",
   "metadata": {},
   "source": [
    "![Dictionaries inside dictionaries](https://i.imgflip.com/3orgly.jpg)\n",
    "\n",
    "Let's say we want to combine EVERYONE'S bento dictionaries - we can nest those dictonaries as a dictionary of dictionaries! That way, the key can be the person's name, and the value can be the dictionary that contains their bento box order.\n",
    "\n",
    "Use Slack to send your dictionaries to each other (you'll want to send everyone the dictionary output, not the code you wrote if you used zip to create your dictionary). \n",
    "\n",
    "Grab at least two other orders and create a dictionary of dictionaries, where the key is the name of the person ordering and the value is their bento dictionary:"
   ]
  },
  {
   "cell_type": "code",
   "execution_count": 48,
   "metadata": {
    "ExecuteTime": {
     "end_time": "2023-04-05T21:58:29.320804Z",
     "start_time": "2023-04-05T21:58:29.315305Z"
    }
   },
   "outputs": [],
   "source": [
    "# Can go ahead and paste at least two other dictionaries\n",
    "james_bento = {\n",
    "    'main': 'cheeseburger',\n",
    "    'cheese': 'pepper jack',\n",
    "    'side': 'french fries',\n",
    "    'vegetable1': 'pickles',\n",
    "    'vegetable2': 'onions',\n",
    "    'drink': 'milkshake'}\n",
    "\n",
    "hannah_bento = {\n",
    "    \"main\": \"salad\",\n",
    "    \"protein\": \"tempura shrimp\",\n",
    "    \"vegetable1\": \"radishes\",\n",
    "    \"vegetable2\": \"cucumbers\",\n",
    "    \"side\": \"tuna roll\"}"
   ]
  },
  {
   "cell_type": "code",
   "execution_count": 50,
   "metadata": {
    "ExecuteTime": {
     "end_time": "2023-04-05T21:59:43.472805Z",
     "start_time": "2023-04-05T21:59:43.461805Z"
    }
   },
   "outputs": [],
   "source": [
    "# Code here to create your nested dictionaries\n",
    "group_dict={\n",
    "    'david': bento_dict,\n",
    "    'scotty':james_bento,\n",
    "    'Qi': hannah_bento\n",
    "}"
   ]
  },
  {
   "cell_type": "code",
   "execution_count": 51,
   "metadata": {
    "ExecuteTime": {
     "end_time": "2023-04-05T21:59:44.294306Z",
     "start_time": "2023-04-05T21:59:44.280304Z"
    }
   },
   "outputs": [
    {
     "data": {
      "text/plain": [
       "{'david': {'protein': 'salmon',\n",
       "  'main': 'rice',\n",
       "  'veg1': 'edamame',\n",
       "  'veg2': 'seaweed salad',\n",
       "  'side': 'dumplings'},\n",
       " 'scotty': {'main': 'cheeseburger',\n",
       "  'cheese': 'pepper jack',\n",
       "  'side': 'french fries',\n",
       "  'vegetable1': 'pickles',\n",
       "  'vegetable2': 'onions',\n",
       "  'drink': 'milkshake'},\n",
       " 'Qi': {'main': 'salad',\n",
       "  'protein': 'tempura shrimp',\n",
       "  'vegetable1': 'radishes',\n",
       "  'vegetable2': 'cucumbers',\n",
       "  'side': 'tuna roll'}}"
      ]
     },
     "execution_count": 51,
     "metadata": {},
     "output_type": "execute_result"
    }
   ],
   "source": [
    "# Check your work\n",
    "group_dict"
   ]
  },
  {
   "cell_type": "markdown",
   "metadata": {},
   "source": [
    "Now, if we wanted a list of people who ordered bento boxes, we could grab a list of those names by using `.keys()`"
   ]
  },
  {
   "cell_type": "code",
   "execution_count": 53,
   "metadata": {
    "ExecuteTime": {
     "end_time": "2023-04-05T22:00:30.546305Z",
     "start_time": "2023-04-05T22:00:30.544304Z"
    }
   },
   "outputs": [],
   "source": [
    "# Code here to grab a list of who you have orders for\n",
    "order_list = list(group_dict.keys())"
   ]
  },
  {
   "cell_type": "code",
   "execution_count": 54,
   "metadata": {
    "ExecuteTime": {
     "end_time": "2023-04-05T22:00:34.839804Z",
     "start_time": "2023-04-05T22:00:34.830803Z"
    },
    "scrolled": true
   },
   "outputs": [
    {
     "data": {
      "text/plain": [
       "['david', 'scotty', 'Qi']"
      ]
     },
     "execution_count": 54,
     "metadata": {},
     "output_type": "execute_result"
    }
   ],
   "source": [
    "# Check your work\n",
    "order_list"
   ]
  },
  {
   "cell_type": "markdown",
   "metadata": {},
   "source": [
    "How would we access one of these `main`s?"
   ]
  },
  {
   "cell_type": "code",
   "execution_count": 57,
   "metadata": {
    "ExecuteTime": {
     "end_time": "2023-04-05T22:01:40.699304Z",
     "start_time": "2023-04-05T22:01:40.692804Z"
    }
   },
   "outputs": [
    {
     "name": "stdout",
     "output_type": "stream",
     "text": [
      "rice\n",
      "cheeseburger\n",
      "salad\n"
     ]
    }
   ],
   "source": [
    "# Access one dictionary's main\n",
    "for order in group_dict.values():\n",
    "    print(order['main'])"
   ]
  },
  {
   "cell_type": "markdown",
   "metadata": {},
   "source": [
    "Now let's write a loop to print the main ingredient in everyone's bento order. \n",
    "\n",
    "(This is easier if everyone named an ingredient `main` in their dictionary...)"
   ]
  },
  {
   "cell_type": "code",
   "execution_count": null,
   "metadata": {},
   "outputs": [],
   "source": [
    "# Code here to write a for loop that prints each main\n"
   ]
  },
  {
   "cell_type": "markdown",
   "metadata": {},
   "source": [
    "Just as we can put lists and dictionaries inside of other lists and dictionaries, we can also put comprehensions inside of other comprehensions!"
   ]
  },
  {
   "cell_type": "code",
   "execution_count": 59,
   "metadata": {
    "ExecuteTime": {
     "end_time": "2023-04-05T22:02:34.127822Z",
     "start_time": "2023-04-05T22:02:34.115305Z"
    },
    "scrolled": true
   },
   "outputs": [
    {
     "data": {
      "text/plain": [
       "{\"david's vegetables\": ['edamame', 'seaweed salad'],\n",
       " \"scotty's vegetables\": ['pickles', 'onions'],\n",
       " \"Qi's vegetables\": ['radishes', 'cucumbers']}"
      ]
     },
     "execution_count": 59,
     "metadata": {},
     "output_type": "execute_result"
    }
   ],
   "source": [
    "# An example of nested comprehensions\n",
    "{f\"{name}'s vegetables\": [v for k, v in order.items() if 'veg' in k] \n",
    " for name, order in group_dict.items()}"
   ]
  },
  {
   "cell_type": "code",
   "execution_count": null,
   "metadata": {},
   "outputs": [],
   "source": [
    "(key,value)"
   ]
  },
  {
   "cell_type": "code",
   "execution_count": 68,
   "metadata": {
    "ExecuteTime": {
     "end_time": "2023-04-05T22:08:53.800305Z",
     "start_time": "2023-04-05T22:08:53.792306Z"
    }
   },
   "outputs": [
    {
     "name": "stdout",
     "output_type": "stream",
     "text": [
      "david\n",
      "scotty\n",
      "Qi\n"
     ]
    }
   ],
   "source": [
    "for x,y in group_dict.items():\n",
    "    print(x)"
   ]
  },
  {
   "cell_type": "code",
   "execution_count": 70,
   "metadata": {
    "ExecuteTime": {
     "end_time": "2023-04-05T22:10:08.432804Z",
     "start_time": "2023-04-05T22:10:08.419804Z"
    }
   },
   "outputs": [
    {
     "data": {
      "text/plain": [
       "{'david': {'protein': 'salmon',\n",
       "  'main': 'rice',\n",
       "  'veg1': 'edamame',\n",
       "  'veg2': 'seaweed salad',\n",
       "  'side': 'dumplings'},\n",
       " 'scotty': {'main': 'cheeseburger',\n",
       "  'cheese': 'pepper jack',\n",
       "  'side': 'french fries',\n",
       "  'vegetable1': 'pickles',\n",
       "  'vegetable2': 'onions',\n",
       "  'drink': 'milkshake'},\n",
       " 'Qi': {'main': 'salad',\n",
       "  'protein': 'tempura shrimp',\n",
       "  'vegetable1': 'radishes',\n",
       "  'vegetable2': 'cucumbers',\n",
       "  'side': 'tuna roll'}}"
      ]
     },
     "execution_count": 70,
     "metadata": {},
     "output_type": "execute_result"
    }
   ],
   "source": [
    "group_dict"
   ]
  },
  {
   "cell_type": "code",
   "execution_count": 69,
   "metadata": {
    "ExecuteTime": {
     "end_time": "2023-04-05T22:09:17.840804Z",
     "start_time": "2023-04-05T22:09:17.831833Z"
    }
   },
   "outputs": [
    {
     "data": {
      "text/plain": [
       "{\"david's vegetables\": ['edamame', 'seaweed salad'],\n",
       " \"scotty's vegetables\": ['pickles', 'onions'],\n",
       " \"Qi's vegetables\": ['radishes', 'cucumbers']}"
      ]
     },
     "execution_count": 69,
     "metadata": {},
     "output_type": "execute_result"
    }
   ],
   "source": [
    "# But remember ... it's okay to easier to write this out as a for loop\n",
    "# THEN you can condense into a comprehension more easily!\n",
    "\n",
    "group_veggie_dict = {}\n",
    "\n",
    "for name, order in group_dict.items():\n",
    "    \n",
    "    ingredient_list = []    \n",
    "    \n",
    "    for key, ingredient in order.items():        \n",
    "        if 'veg' in key:\n",
    "            ingredient_list.append(ingredient)\n",
    "            \n",
    "    group_veggie_dict[f\"{name}'s vegetables\"] = ingredient_list\n",
    "    \n",
    "# Check it\n",
    "group_veggie_dict"
   ]
  },
  {
   "cell_type": "markdown",
   "metadata": {},
   "source": [
    "\n",
    "## Functions"
   ]
  },
  {
   "cell_type": "markdown",
   "metadata": {},
   "source": [
    "This aspect of Python is _incredibly_ useful! Writing your own functions can save you a TON of work - by _automating_ it."
   ]
  },
  {
   "cell_type": "markdown",
   "metadata": {},
   "source": [
    "### Creating Functions"
   ]
  },
  {
   "cell_type": "markdown",
   "metadata": {},
   "source": [
    "The first line will read:\n",
    "\n",
    "```python\n",
    "\n",
    "'def' function_name() ':'\n",
    "\n",
    "```\n",
    "\n",
    "Any arguments to the function will go in the parentheses, and you can set default arguments in those parentheses as well."
   ]
  },
  {
   "cell_type": "markdown",
   "metadata": {},
   "source": [
    "Let's write a function that will take in both a nested dictionary of bento orders and the name of an ingredient type, which outputs a tuple with each person's name and the ingredients that match that type!"
   ]
  },
  {
   "cell_type": "code",
   "execution_count": null,
   "metadata": {},
   "outputs": [],
   "source": [
    "str.title()"
   ]
  },
  {
   "cell_type": "code",
   "execution_count": 88,
   "metadata": {
    "ExecuteTime": {
     "end_time": "2023-04-05T22:17:54.164304Z",
     "start_time": "2023-04-05T22:17:54.152807Z"
    }
   },
   "outputs": [],
   "source": [
    "def find_ingredients(nested_dictionary, ingredient_type='main'):\n",
    "    '''\n",
    "    Function that takes in a dictionary, where names are keys and values are\n",
    "    dictionaries of that person's bento order, and then checks which keys in\n",
    "    the bento order dictionary match the provided string. The output is a list\n",
    "    of tuples, with each person's name and a list of matched ingredients.\n",
    "    \n",
    "    Inputs:\n",
    "        nested_dictionary : dictionary\n",
    "        ingredient_type : string (default is 'main')\n",
    "        \n",
    "    Outputs:\n",
    "        output_list : tuple\n",
    "    '''\n",
    "    \n",
    "    output_list = []\n",
    "    \n",
    "    for name, order in nested_dictionary.items():\n",
    "        ingredient_list = []    \n",
    "        for key, ingredient in order.items():        \n",
    "            if ingredient_type in key:\n",
    "                ingredient_list.append(ingredient)\n",
    "        output_list.append((name, ingredient_list))\n",
    "          \n",
    "    return output_list"
   ]
  },
  {
   "cell_type": "code",
   "execution_count": 89,
   "metadata": {
    "ExecuteTime": {
     "end_time": "2023-04-05T22:17:54.504804Z",
     "start_time": "2023-04-05T22:17:54.499803Z"
    }
   },
   "outputs": [
    {
     "data": {
      "text/plain": [
       "[('david', ['rice']), ('scotty', ['cheeseburger']), ('Qi', ['salad'])]"
      ]
     },
     "execution_count": 89,
     "metadata": {},
     "output_type": "execute_result"
    }
   ],
   "source": [
    "# Try it!\n",
    "output = find_ingredients(group_dict)\n",
    "output"
   ]
  },
  {
   "cell_type": "code",
   "execution_count": 90,
   "metadata": {
    "ExecuteTime": {
     "end_time": "2023-04-05T22:17:54.876804Z",
     "start_time": "2023-04-05T22:17:54.868304Z"
    }
   },
   "outputs": [
    {
     "data": {
      "text/plain": [
       "[('david', ['rice']), ('scotty', ['cheeseburger']), ('Qi', ['salad'])]"
      ]
     },
     "execution_count": 90,
     "metadata": {},
     "output_type": "execute_result"
    }
   ],
   "source": [
    "find_ingredients(group_dict)"
   ]
  },
  {
   "cell_type": "code",
   "execution_count": 91,
   "metadata": {
    "ExecuteTime": {
     "end_time": "2023-04-05T22:17:55.403805Z",
     "start_time": "2023-04-05T22:17:55.393804Z"
    }
   },
   "outputs": [
    {
     "data": {
      "text/plain": [
       "tuple"
      ]
     },
     "execution_count": 91,
     "metadata": {},
     "output_type": "execute_result"
    }
   ],
   "source": [
    "type(output[0])"
   ]
  },
  {
   "cell_type": "markdown",
   "metadata": {},
   "source": [
    "# Extra Practice Exercises"
   ]
  },
  {
   "cell_type": "markdown",
   "metadata": {},
   "source": [
    "1) Use a list comprehension to extract the odd numbers from this set:"
   ]
  },
  {
   "cell_type": "code",
   "execution_count": null,
   "metadata": {},
   "outputs": [],
   "source": [
    "nums = set(range(1000))"
   ]
  },
  {
   "cell_type": "code",
   "execution_count": null,
   "metadata": {},
   "outputs": [],
   "source": [
    "# Your code here"
   ]
  },
  {
   "cell_type": "markdown",
   "metadata": {},
   "source": [
    "2) Use a list comprehension to take the first character of each string from the following list of words:"
   ]
  },
  {
   "cell_type": "code",
   "execution_count": null,
   "metadata": {},
   "outputs": [],
   "source": [
    "words = ['carbon', 'osmium', 'mercury', 'potassium', 'rhenium', 'einsteinium',\n",
    "        'hydrogen', 'erbium', 'nitrogen', 'sulfur', 'iodine', 'oxygen', 'niobium']"
   ]
  },
  {
   "cell_type": "code",
   "execution_count": null,
   "metadata": {},
   "outputs": [],
   "source": [
    "# Your code here"
   ]
  },
  {
   "cell_type": "markdown",
   "metadata": {},
   "source": [
    "3) Use a list comprehension to build a list of all the names that start with 'R' from the following list. Add a '?' to the end of each name."
   ]
  },
  {
   "cell_type": "code",
   "execution_count": null,
   "metadata": {},
   "outputs": [],
   "source": [
    "names = ['Randy', 'Robert', 'Alex', 'Ranjit', 'Charlie', 'Richard', 'Ravdeep',\n",
    "        'Vimal', 'Wu', 'Nelson']"
   ]
  },
  {
   "cell_type": "code",
   "execution_count": null,
   "metadata": {},
   "outputs": [],
   "source": [
    "# Your code here"
   ]
  },
  {
   "cell_type": "markdown",
   "metadata": {},
   "source": [
    "4) From the list below, make a list of dictionaries where the key is the person's name and the value is the person's home phone number."
   ]
  },
  {
   "cell_type": "code",
   "execution_count": null,
   "metadata": {},
   "outputs": [],
   "source": [
    "phone_nos = [{'name': 'greg', 'nums': {'home': 1234567, 'work': 7654321}},\n",
    "             {'name': 'max', 'nums': {'home': 9876543, 'work': 1010001}},\n",
    "             {'name': 'erin', 'nums': {'home': 3333333, 'work': 4444444}},\n",
    "             {'name': 'joél', 'nums': {'home': 2222222, 'work': 5555555}},\n",
    "             {'name': 'sean', 'nums': {'home': 9999999, 'work': 8888888}}]"
   ]
  },
  {
   "cell_type": "code",
   "execution_count": null,
   "metadata": {},
   "outputs": [],
   "source": [
    "# Your code here"
   ]
  },
  {
   "cell_type": "markdown",
   "metadata": {},
   "source": [
    "5) Using this customer's dictionary, build a dictionary where the customers' names are the keys and the movies they've bought are the values."
   ]
  },
  {
   "cell_type": "code",
   "execution_count": null,
   "metadata": {},
   "outputs": [],
   "source": [
    "customers = {\n",
    "    'bill': {'purchases': {'vmoies': ['Terminator', 'Elf'],\n",
    "                           'books': []},\n",
    "             'id': 1},\n",
    "    'dolph': {'purchases': {'movies': ['It Happened One Night'],\n",
    "                            'books': ['The Far Side Gallery']},\n",
    "              'id': 2},\n",
    "    'pat': {'purchases': {'movies': [],\n",
    "                          'books': ['Seinfeld and Philosophy', 'I Am a Bunny']},\n",
    "            'id': 3}\n",
    "}"
   ]
  },
  {
   "cell_type": "code",
   "execution_count": null,
   "metadata": {},
   "outputs": [],
   "source": [
    "# Your code here\n",
    "{customer: customers[customer]['purchases']['movies'] for customer in customers.keys()}\n",
    "# OR\n",
    "{k: v['purchases']['movies'] for k, v in customers.items()}"
   ]
  },
  {
   "cell_type": "markdown",
   "metadata": {},
   "source": [
    "6) Build a function that will return $2^n$ for an input integer $n$."
   ]
  },
  {
   "cell_type": "code",
   "execution_count": null,
   "metadata": {},
   "outputs": [],
   "source": [
    "# Your code here\n",
    "def expo(n):\n",
    "    return 2**n"
   ]
  },
  {
   "cell_type": "markdown",
   "metadata": {},
   "source": [
    "7) Build a function that will take in a list of phone numbers as strings and return the same as integers, removing any parentheses ('(' and ')'), hyphens ('-'), and spaces."
   ]
  },
  {
   "cell_type": "code",
   "execution_count": null,
   "metadata": {},
   "outputs": [],
   "source": [
    "# Your code here\n",
    "def int_phone(string_list):\n",
    "    return [int(string.replace('(', '').replace(')', '').replace('-', '').replace(' ', ''))\\\n",
    "    for string in string_list]"
   ]
  },
  {
   "cell_type": "markdown",
   "metadata": {},
   "source": [
    "8) Build a function that returns the mode of a list of numbers."
   ]
  },
  {
   "cell_type": "code",
   "execution_count": null,
   "metadata": {},
   "outputs": [],
   "source": [
    "# Your code here\n",
    "\n",
    "def mode(lst):\n",
    "    counts = {num: lst.count(num) for num in lst}\n",
    "    return [num for num in counts.keys() if counts[num] == max(counts.values())]"
   ]
  }
 ],
 "metadata": {
  "kernelspec": {
   "display_name": "learn-env",
   "language": "python",
   "name": "learn-env"
  },
  "language_info": {
   "codemirror_mode": {
    "name": "ipython",
    "version": 3
   },
   "file_extension": ".py",
   "mimetype": "text/x-python",
   "name": "python",
   "nbconvert_exporter": "python",
   "pygments_lexer": "ipython3",
   "version": "3.8.5"
  },
  "toc": {
   "base_numbering": 1,
   "nav_menu": {},
   "number_sections": true,
   "sideBar": true,
   "skip_h1_title": false,
   "title_cell": "Table of Contents",
   "title_sidebar": "Contents",
   "toc_cell": true,
   "toc_position": {
    "height": "calc(100% - 180px)",
    "left": "10px",
    "top": "150px",
    "width": "250.777px"
   },
   "toc_section_display": true,
   "toc_window_display": false
  },
  "varInspector": {
   "cols": {
    "lenName": 16,
    "lenType": 16,
    "lenVar": 40
   },
   "kernels_config": {
    "python": {
     "delete_cmd_postfix": "",
     "delete_cmd_prefix": "del ",
     "library": "var_list.py",
     "varRefreshCmd": "print(var_dic_list())"
    },
    "r": {
     "delete_cmd_postfix": ") ",
     "delete_cmd_prefix": "rm(",
     "library": "var_list.r",
     "varRefreshCmd": "cat(var_dic_list()) "
    }
   },
   "types_to_exclude": [
    "module",
    "function",
    "builtin_function_or_method",
    "instance",
    "_Feature"
   ],
   "window_display": false
  }
 },
 "nbformat": 4,
 "nbformat_minor": 4
}
