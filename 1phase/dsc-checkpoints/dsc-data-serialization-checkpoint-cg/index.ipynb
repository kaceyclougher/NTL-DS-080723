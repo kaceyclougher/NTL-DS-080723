{
 "cells": [
  {
   "cell_type": "markdown",
   "metadata": {
    "nbgrader": {
     "grade": false,
     "grade_id": "cell-9bfaf5568d5638d6",
     "locked": true,
     "schema_version": 3,
     "solution": false,
     "task": false
    }
   },
   "source": [
    "# Data Serialization Formats Checkpoint\n",
    "\n",
    "This checkpoint is designed to test your understanding of the content from the Data Serialization Formats Cumulative Lab.\n",
    "\n",
    "Specifically, this will cover:\n",
    "\n",
    "* Reading serialized CSV data from a file into a Python object\n",
    "* Extracting information from nested data structures\n",
    "\n",
    "## Your Task: Extract Frequency Counts for Education Levels from a CSV\n",
    "\n",
    "### Data Understanding\n",
    "\n",
    "In this repository there is a CSV data file, `salaries.csv`, containing salary and demographic information. When loaded into Python as a list of dictionaries, each dictionary looks something like this:\n",
    "\n",
    "```\n",
    "{\n",
    "  'Age':          '39',\n",
    "  'Education':    'E - Bachelors',\n",
    "  'Occupation':   'Adm-clerical',\n",
    "  'Relationship': 'Not-in-family',\n",
    "  'Race':         'White',\n",
    "  'Sex':          'Male',\n",
    "  'Target':       '<=50K'\n",
    " }\n",
    "```\n",
    "\n",
    "Most of this information is irrelevant for the current task; the one piece that you need to focus on is the `Education` key-value pair.\n",
    "\n",
    "Your task is to create a **frequency table** where the various education levels (values associated with the `Education` keys) are encoded as keys, and the frequencies of those education levels are encoded as values.\n",
    "\n",
    "### Requirements\n",
    "\n",
    "#### 1. Import the Relevant Module\n",
    "\n",
    "#### 2. Open the File and Create a List of Records\n",
    "\n",
    "#### 3. Identify the Unique Education Levels\n",
    "\n",
    "#### 4. Create a Frequency Table of Education Levels\n",
    "\n",
    "#### 5. Identify the Most Common Education Level"
   ]
  },
  {
   "cell_type": "markdown",
   "metadata": {
    "nbgrader": {
     "grade": false,
     "grade_id": "cell-429245ee422b9d51",
     "locked": true,
     "schema_version": 3,
     "solution": false,
     "task": false
    }
   },
   "source": [
    "## 1. Import the Relevant Module\n",
    "\n",
    "In the cell below, import the module used for working with CSV data in Python:"
   ]
  },
  {
   "cell_type": "code",
   "execution_count": 9,
   "metadata": {
    "nbgrader": {
     "grade": false,
     "grade_id": "cell-c147f754df1614f5",
     "locked": false,
     "schema_version": 3,
     "solution": true,
     "task": false
    }
   },
   "outputs": [],
   "source": [
    "# CodeGrade step1\n",
    "# Your code here!\n",
    "import csv"
   ]
  },
  {
   "cell_type": "markdown",
   "metadata": {
    "nbgrader": {
     "grade": false,
     "grade_id": "cell-eb380d68993a5c41",
     "locked": true,
     "schema_version": 3,
     "solution": false,
     "task": false
    }
   },
   "source": [
    "## 2. Open the File and Create a List of Records\n",
    "\n",
    "Make sure you follow these steps with the specified variable names in order to pass all tests:\n",
    "\n",
    "1. Create a file object `salary_data_file` by opening the file with the path to your copy of `salaries.csv`\n",
    "2. Instantiate a `DictReader` ([documentation here](https://docs.python.org/3/library/csv.html#csv.DictReader)) using that file object\n",
    "3. Cast the `DictReader` to a `list` and assign the result to `salary_data`\n",
    "4. Close the `salary_data_file`"
   ]
  },
  {
   "cell_type": "code",
   "execution_count": 20,
   "metadata": {
    "nbgrader": {
     "grade": false,
     "grade_id": "cell-a9162c074cf68b51",
     "locked": false,
     "schema_version": 3,
     "solution": true,
     "task": false
    }
   },
   "outputs": [
    {
     "name": "stdout",
     "output_type": "stream",
     "text": [
      "{'Age': '39', 'Education': 'E - Bachelors', 'Occupation': 'Adm-clerical', 'Relationship': 'Not-in-family', 'Race': 'White', 'Sex': 'Male', 'Target': '<=50K'}\n",
      "{'Age': '50', 'Education': 'E - Bachelors', 'Occupation': 'Exec-managerial', 'Relationship': 'Husband', 'Race': 'White', 'Sex': 'Male', 'Target': '<=50K'}\n",
      "{'Age': '38', 'Education': 'B - HS Diploma', 'Occupation': 'Handlers-cleaners', 'Relationship': 'Not-in-family', 'Race': 'White', 'Sex': 'Male', 'Target': '<=50K'}\n",
      "{'Age': '53', 'Education': 'A - No HS Diploma', 'Occupation': 'Handlers-cleaners', 'Relationship': 'Husband', 'Race': 'Black', 'Sex': 'Male', 'Target': '<=50K'}\n",
      "{'Age': '28', 'Education': 'E - Bachelors', 'Occupation': 'Prof-specialty', 'Relationship': 'Wife', 'Race': 'Black', 'Sex': 'Female', 'Target': '<=50K'}\n"
     ]
    }
   ],
   "source": [
    "# CodeGrade step2\n",
    "# Replace None with appropriate code\n",
    "\n",
    "# Open the file\n",
    "salary_data_file = open(\"salaries.csv\")\n",
    "\n",
    "\n",
    "# Instantiate a DictReader and create salary_data\n",
    "reader = csv.DictReader(salary_data_file)\n",
    "salary_data = list(reader)\n",
    "\n",
    "# Close salary_data_file\n",
    "\n",
    "salary_data_file.close()\n",
    "\n",
    "\n",
    "# Visually inspecting the first few records\n",
    "for record in salary_data[:5]:\n",
    "    print(record)"
   ]
  },
  {
   "cell_type": "code",
   "execution_count": 21,
   "metadata": {},
   "outputs": [],
   "source": [
    "# Checking salary_data_file\n",
    "assert type(salary_data_file) != None\n",
    "\n",
    "# Checking salary_data\n",
    "assert type(salary_data) == list"
   ]
  },
  {
   "cell_type": "markdown",
   "metadata": {
    "nbgrader": {
     "grade": false,
     "grade_id": "cell-d84f38e73f5ed982",
     "locked": true,
     "schema_version": 3,
     "solution": false,
     "task": false
    }
   },
   "source": [
    "## 3. Identify the Unique Education Levels\n",
    "\n",
    "Create a list `unique_education_levels` that contains all unique values associated with the `Education` key in these records, in alphabetical order.\n",
    "\n",
    "***Hint:*** You'll need to loop over all records (dictionaries) in `salary_data` and find the value associated with the `Education` key for each\n",
    "\n",
    "***Hint:*** The `.sort` list method or `sorted` built-in function can be used to sort strings into alphabetical order. Note that `.sort` modifies the list in place and returns `None`, whereas `sorted` does not modify the list in place but returns a sorted version."
   ]
  },
  {
   "cell_type": "code",
   "execution_count": 44,
   "metadata": {
    "nbgrader": {
     "grade": false,
     "grade_id": "cell-1515986a288add22",
     "locked": false,
     "schema_version": 3,
     "solution": true,
     "task": false
    }
   },
   "outputs": [
    {
     "name": "stdout",
     "output_type": "stream",
     "text": [
      "Unique Education Levels:\n",
      "['A - No HS Diploma', 'B - HS Diploma', 'C - Some College', 'D - Associates', 'E - Bachelors', 'F - Graduate Degree']\n"
     ]
    }
   ],
   "source": [
    "# CodeGrade step3\n",
    "# Replace None with appropriate code (adding more lines as needed)\n",
    "\n",
    "unique_education_levels = set()\n",
    "\n",
    "for row in salary_data:\n",
    "    ed = row['Education']\n",
    "    unique_education_levels.add(ed)\n",
    "\n",
    "unique_education_levels = sorted(unique_education_levels)\n",
    "    \n",
    "print(\"Unique Education Levels:\")\n",
    "print(unique_education_levels)"
   ]
  },
  {
   "cell_type": "code",
   "execution_count": 45,
   "metadata": {},
   "outputs": [],
   "source": [
    "# Checking unique_education_levels\n",
    "assert type(unique_education_levels) == list\n",
    "assert len(unique_education_levels) == 6"
   ]
  },
  {
   "cell_type": "markdown",
   "metadata": {
    "nbgrader": {
     "grade": false,
     "grade_id": "cell-93e48ec22dbc6122",
     "locked": true,
     "schema_version": 3,
     "solution": false,
     "task": false
    }
   },
   "source": [
    "## 4. Create a Frequency Table of Education Levels\n",
    "\n",
    "Create a dictionary `education_level_frequencies` where the keys are the unique education levels found above, and the values are the number of times that the education level appeared in the full dataset.\n",
    "\n",
    "For example, the key `A - No HS Diploma` should have the associated value `4253`, since that education level appears 4,253 times in the dataset."
   ]
  },
  {
   "cell_type": "code",
   "execution_count": 56,
   "metadata": {
    "nbgrader": {
     "grade": false,
     "grade_id": "cell-fa6ba75af40e3f7b",
     "locked": false,
     "schema_version": 3,
     "solution": true,
     "task": false
    }
   },
   "outputs": [
    {
     "name": "stdout",
     "output_type": "stream",
     "text": [
      "The most common education level appears 1 times\n",
      "The least common education level appears 1 times\n"
     ]
    }
   ],
   "source": [
    "# CodeGrade step4\n",
    "# Replace None with appropriate code (add more lines as needed)\n",
    "\n",
    "education_level_frequencies = {}\n",
    "\n",
    "#trying in list comp\n",
    "#education_level_frequencies = {level for level in unique_education_levels if (level in education_level_frequencies[level] += 1)}\n",
    "\n",
    "for level in unique_education_levels:\n",
    "    if level in education_level_frequencies:\n",
    "        education_level_frequencies[level] += 1\n",
    "    else:\n",
    "        education_level_frequencies[level] = 1\n",
    "\n",
    "# this is not working the way I want it to!!!!!!!!!!! Can we please go over this? \n",
    "        \n",
    "        \n",
    "print(\"The most common education level appears\", max(education_level_frequencies.values()), \"times\")\n",
    "print(\"The least common education level appears\", min(education_level_frequencies.values()), \"times\")"
   ]
  },
  {
   "cell_type": "code",
   "execution_count": 48,
   "metadata": {
    "nbgrader": {
     "grade": false,
     "grade_id": "cell-fa6ba75af40e3f7b",
     "locked": false,
     "schema_version": 3,
     "solution": true,
     "task": false
    }
   },
   "outputs": [
    {
     "data": {
      "image/png": "[encoded data removed]",
      "text/plain": [
       "<Figure size 864x360 with 1 Axes>"
      ]
     },
     "metadata": {
      "needs_background": "light"
     },
     "output_type": "display_data"
    }
   ],
   "source": [
    "# Run this cell without changes\n",
    "\n",
    "x = list(education_level_frequencies.keys())\n",
    "height = list(education_level_frequencies.values())\n",
    "\n",
    "# Checking education_level_frequencies\n",
    "\n",
    "# Should be a dictionary overall\n",
    "assert type(education_level_frequencies) == dict\n",
    "\n",
    "x = list(education_level_frequencies.keys())\n",
    "height = list(education_level_frequencies.values())\n",
    "\n",
    "# Should have string keys\n",
    "assert type(x[0]) == str\n",
    "# Should have integer values\n",
    "assert type(height[0]) == int\n",
    "\n",
    "# This plotting code should work\n",
    "import matplotlib.pyplot as plt\n",
    "fig, ax = plt.subplots(figsize=(12, 5))\n",
    "ax.bar(x, height)\n",
    "ax.tick_params(axis='x', labelrotation=45)\n",
    "ax.set_title(\"Distribution of Education Levels\")\n",
    "ax.set_ylabel(\"Count\");"
   ]
  },
  {
   "cell_type": "markdown",
   "metadata": {
    "nbgrader": {
     "grade": false,
     "grade_id": "cell-c27640e9b2facfdc",
     "locked": true,
     "schema_version": 3,
     "solution": false,
     "task": false
    }
   },
   "source": [
    "## 5. Identify the Most Common Education Level\n",
    "\n",
    "Based on the above graph, which education level is most common in this dataset?\n",
    "\n",
    "Set the value of the variable `most_common` to the string value of that education level. You can just type in the answer rather than finding this with code, but make sure that the test cell passes — it checks that your answer is one of the valid answers (hopefully helping you avoid a spelling mistake)."
   ]
  },
  {
   "cell_type": "code",
   "execution_count": 51,
   "metadata": {
    "nbgrader": {
     "grade": false,
     "grade_id": "cell-9d46f2004bddc2c5",
     "locked": false,
     "schema_version": 3,
     "solution": true,
     "task": false
    }
   },
   "outputs": [],
   "source": [
    "# CodeGrade step5\n",
    "# Replace None with appropriate code\n",
    "\n",
    "most_common = 'F - Graduate Degree'"
   ]
  },
  {
   "cell_type": "code",
   "execution_count": 52,
   "metadata": {},
   "outputs": [],
   "source": [
    "assert type(most_common) == str\n",
    "assert most_common in [\n",
    "    'A - No HS Diploma',\n",
    "    'B - HS Diploma',\n",
    "    'C - Some College',\n",
    "    'D - Associates',\n",
    "    'E - Bachelors',\n",
    "    'F - Graduate Degree'\n",
    "]"
   ]
  },
  {
   "cell_type": "code",
   "execution_count": null,
   "metadata": {},
   "outputs": [],
   "source": []
  }
 ],
 "metadata": {
  "celltoolbar": "Create Assignment",
  "kernelspec": {
   "display_name": "Python (learn-env)",
   "language": "python",
   "name": "learn-env"
  },
  "language_info": {
   "codemirror_mode": {
    "name": "ipython",
    "version": 3
   },
   "file_extension": ".py",
   "mimetype": "text/x-python",
   "name": "python",
   "nbconvert_exporter": "python",
   "pygments_lexer": "ipython3",
   "version": "3.8.5"
  }
 },
 "nbformat": 4,
 "nbformat_minor": 4
}
